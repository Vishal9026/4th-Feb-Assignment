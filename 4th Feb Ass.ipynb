{
 "cells": [
  {
   "cell_type": "code",
   "execution_count": 1,
   "id": "3ddc45d1-eb65-4dd3-93fa-fff9812cf6e7",
   "metadata": {},
   "outputs": [],
   "source": [
    "# ANSWER-1)\n",
    "players = [('Sachin Tendulkar', 34357), ('Ricky Ponting', 27483), ('Jack Kallis', 25534), ('Virat Kohli', 24936)]\n",
    "\n",
    "sorted_players = sorted(players, key=lambda x: x[1], reverse=True)"
   ]
  },
  {
   "cell_type": "code",
   "execution_count": 2,
   "id": "73153c2e-d11e-4b08-8717-0e09e6258f9d",
   "metadata": {},
   "outputs": [
    {
     "data": {
      "text/plain": [
       "[('Sachin Tendulkar', 34357),\n",
       " ('Ricky Ponting', 27483),\n",
       " ('Jack Kallis', 25534),\n",
       " ('Virat Kohli', 24936)]"
      ]
     },
     "execution_count": 2,
     "metadata": {},
     "output_type": "execute_result"
    }
   ],
   "source": [
    "sorted_players"
   ]
  },
  {
   "cell_type": "code",
   "execution_count": 4,
   "id": "ef723a0e-43fb-41b9-8370-ed494687a5af",
   "metadata": {},
   "outputs": [
    {
     "data": {
      "text/plain": [
       "[1, 4, 9, 16, 25, 36, 49, 64, 81, 100]"
      ]
     },
     "execution_count": 4,
     "metadata": {},
     "output_type": "execute_result"
    }
   ],
   "source": [
    "# ANSWER-2)\n",
    "l = [1,2,3,4,5,6,7,8,9,10]\n",
    "list(map(lambda x: x**2,l))"
   ]
  },
  {
   "cell_type": "code",
   "execution_count": 5,
   "id": "4bf4cac5-e07a-4498-b72c-7c0d824b423f",
   "metadata": {},
   "outputs": [
    {
     "data": {
      "text/plain": [
       "('[',\n",
       " '1',\n",
       " ',',\n",
       " ' ',\n",
       " '2',\n",
       " ',',\n",
       " ' ',\n",
       " '3',\n",
       " ',',\n",
       " ' ',\n",
       " '4',\n",
       " ',',\n",
       " ' ',\n",
       " '5',\n",
       " ',',\n",
       " ' ',\n",
       " '6',\n",
       " ']')"
      ]
     },
     "execution_count": 5,
     "metadata": {},
     "output_type": "execute_result"
    }
   ],
   "source": [
    "# ANSWER-3)\n",
    "l = [1,2,3,4,5,6]\n",
    "tuple(map(lambda x: x, str(l)))"
   ]
  },
  {
   "cell_type": "code",
   "execution_count": 10,
   "id": "41b06815-5876-49d8-8ccf-7c1f177224c9",
   "metadata": {},
   "outputs": [
    {
     "data": {
      "text/plain": [
       "15511210043330985984000000"
      ]
     },
     "execution_count": 10,
     "metadata": {},
     "output_type": "execute_result"
    }
   ],
   "source": [
    "# ANSWER-4)\n",
    "from functools import reduce\n",
    "l = list(range(1,26))\n",
    "reduce(lambda x,y:x*y,l)"
   ]
  },
  {
   "cell_type": "code",
   "execution_count": 14,
   "id": "e5253ef8-b0a4-457a-b387-d9fb05e43747",
   "metadata": {},
   "outputs": [
    {
     "data": {
      "text/plain": [
       "[6, 60, 90, 120]"
      ]
     },
     "execution_count": 14,
     "metadata": {},
     "output_type": "execute_result"
    }
   ],
   "source": [
    "# ANSWER-5)\n",
    "l = [2,3,6,9,27,60,90,120,55,46]\n",
    "list(filter(lambda x: x % 2==0 and x%3 == 0,l))"
   ]
  },
  {
   "cell_type": "code",
   "execution_count": 19,
   "id": "cdaa7a17-5c5d-485e-bb75-e98fb0bbd404",
   "metadata": {},
   "outputs": [
    {
     "data": {
      "text/plain": [
       "['php', 'aba', 'radar', 'level']"
      ]
     },
     "execution_count": 19,
     "metadata": {},
     "output_type": "execute_result"
    }
   ],
   "source": [
    "# string =['python','php','aba','radar','level']\n",
    "# list(filter(lambda s:(s == \"\".join(reversed(s))),string))"
   ]
  },
  {
   "cell_type": "code",
   "execution_count": 20,
   "id": "b4275a5c-f5a8-4ed8-8783-9c30a1242eae",
   "metadata": {},
   "outputs": [
    {
     "data": {
      "text/plain": [
       "['php', 'aba', 'radar', 'level']"
      ]
     },
     "execution_count": 20,
     "metadata": {},
     "output_type": "execute_result"
    }
   ],
   "source": [
    "# ANSWER-6)\n",
    "string =['python','php','aba','radar','level']\n",
    "list(filter(lambda s:(s == s[::-1]),string))"
   ]
  },
  {
   "cell_type": "code",
   "execution_count": null,
   "id": "a572ed0a-0772-4e2f-9063-2bf635e25e47",
   "metadata": {},
   "outputs": [],
   "source": []
  }
 ],
 "metadata": {
  "kernelspec": {
   "display_name": "Python 3 (ipykernel)",
   "language": "python",
   "name": "python3"
  },
  "language_info": {
   "codemirror_mode": {
    "name": "ipython",
    "version": 3
   },
   "file_extension": ".py",
   "mimetype": "text/x-python",
   "name": "python",
   "nbconvert_exporter": "python",
   "pygments_lexer": "ipython3",
   "version": "3.10.8"
  }
 },
 "nbformat": 4,
 "nbformat_minor": 5
}
